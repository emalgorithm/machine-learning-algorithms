{
 "cells": [
  {
   "cell_type": "code",
   "execution_count": 35,
   "metadata": {},
   "outputs": [
    {
     "name": "stdout",
     "output_type": "stream",
     "text": [
      "The autoreload extension is already loaded. To reload it, use:\n",
      "  %reload_ext autoreload\n"
     ]
    }
   ],
   "source": [
    "%load_ext autoreload\n",
    "%autoreload 2\n",
    "\n",
    "from sklearn import datasets \n",
    "from sklearn.model_selection import train_test_split\n",
    "import numpy as np\n",
    "from sklearn.metrics import accuracy_score\n",
    "from evaluation_util import eval_model_on_data"
   ]
  },
  {
   "cell_type": "markdown",
   "metadata": {},
   "source": [
    "# Load Data"
   ]
  },
  {
   "cell_type": "markdown",
   "metadata": {},
   "source": [
    "## Breast Cancer Data"
   ]
  },
  {
   "cell_type": "code",
   "execution_count": 6,
   "metadata": {},
   "outputs": [],
   "source": [
    "breast_cancer_data = datasets.load_breast_cancer()\n",
    "X_breast_cancer = breast_cancer_data['data']\n",
    "y_breast_cancer = breast_cancer_data['target']\n",
    "X_train_breast_cancer, X_test_breast_cancer, y_train_breast_cancer, y_test_breast_cancer = train_test_split(X_breast_cancer, y_breast_cancer, test_size=0.2, random_state=42)\n",
    "n_classes_breast_cancer = len(breast_cancer_data['target_names'])\n",
    "n_features_breast_cancer = len(X_breast_cancer[0])\n"
   ]
  },
  {
   "cell_type": "markdown",
   "metadata": {},
   "source": [
    "## Digits Data"
   ]
  },
  {
   "cell_type": "code",
   "execution_count": 10,
   "metadata": {},
   "outputs": [],
   "source": [
    "X_digits, y_digits = datasets.load_digits(n_class=10, return_X_y=True)\n",
    "X_train_digits, X_test_digits, y_train_digits, y_test_digits = train_test_split(X_digits, y_digits, test_size=0.2, random_state=42)\n",
    "n_classes_digits = 10\n",
    "n_features_digits = len(X_digits[0])\n"
   ]
  },
  {
   "cell_type": "markdown",
   "metadata": {},
   "source": [
    "# Models"
   ]
  },
  {
   "cell_type": "markdown",
   "metadata": {},
   "source": [
    "## Gaussian Discriminant Analysis"
   ]
  },
  {
   "cell_type": "code",
   "execution_count": 26,
   "metadata": {},
   "outputs": [],
   "source": [
    "from gaussian_discriminant_analysis import GDA\n",
    "from sklearn.discriminant_analysis import LinearDiscriminantAnalysis"
   ]
  },
  {
   "cell_type": "markdown",
   "metadata": {},
   "source": [
    "### Breast Cancer Data"
   ]
  },
  {
   "cell_type": "code",
   "execution_count": 27,
   "metadata": {},
   "outputs": [
    {
     "name": "stdout",
     "output_type": "stream",
     "text": [
      "Own model has accuracy of 98.25%\n",
      "Sklean model has accuracy of 95.61%\n"
     ]
    }
   ],
   "source": [
    "gda = GDA(n_classes_breast_cancer, n_features_breast_cancer)\n",
    "gda_sklearn = LinearDiscriminantAnalysis()\n",
    "\n",
    "eval_model_on_data(gda, gda_sklearn, X_train_breast_cancer, y_train_breast_cancer, X_test_breast_cancer, y_test_breast_cancer)"
   ]
  },
  {
   "cell_type": "markdown",
   "metadata": {},
   "source": [
    "### Digits Data"
   ]
  },
  {
   "cell_type": "code",
   "execution_count": 28,
   "metadata": {},
   "outputs": [
    {
     "name": "stdout",
     "output_type": "stream",
     "text": [
      "Own model has accuracy of 94.72%\n",
      "Sklean model has accuracy of 94.44%\n"
     ]
    },
    {
     "name": "stderr",
     "output_type": "stream",
     "text": [
      "/Users/ema/anaconda3/lib/python3.7/site-packages/sklearn/discriminant_analysis.py:388: UserWarning: Variables are collinear.\n",
      "  warnings.warn(\"Variables are collinear.\")\n"
     ]
    }
   ],
   "source": [
    "gda = GDA(n_classes_digits, n_features_digits)\n",
    "gda_sklearn = LinearDiscriminantAnalysis()\n",
    "\n",
    "eval_model_on_data(gda, gda_sklearn, X_train_digits, y_train_digits, X_test_digits, y_test_digits)"
   ]
  },
  {
   "cell_type": "markdown",
   "metadata": {},
   "source": [
    "## Logistic Regression"
   ]
  },
  {
   "cell_type": "code",
   "execution_count": 31,
   "metadata": {},
   "outputs": [],
   "source": [
    "from logistic_regression import LogisticRegression\n",
    "from sklearn.linear_model import LogisticRegression as LogisticRegressionSklearn"
   ]
  },
  {
   "cell_type": "markdown",
   "metadata": {},
   "source": [
    "### Breast Cancer Data"
   ]
  },
  {
   "cell_type": "code",
   "execution_count": 36,
   "metadata": {},
   "outputs": [
    {
     "name": "stdout",
     "output_type": "stream",
     "text": [
      "Epoch 0, avg log likelihood: 0.5\n",
      "Epoch 1, avg log likelihood: 0.37142857142857144\n",
      "Epoch 2, avg log likelihood: 0.6285714285714286\n",
      "Epoch 3, avg log likelihood: 0.37142857142857144\n",
      "Epoch 4, avg log likelihood: 0.6285714285714286\n",
      "Epoch 5, avg log likelihood: 0.37142857142857144\n",
      "Epoch 6, avg log likelihood: 0.6505436306614314\n",
      "Epoch 7, avg log likelihood: 0.37142857142857144\n",
      "Epoch 8, avg log likelihood: 0.37142857142857144\n",
      "Epoch 9, avg log likelihood: 0.6285714285714286\n",
      "Epoch 10, avg log likelihood: 0.37142857142857144\n",
      "Epoch 11, avg log likelihood: 0.6285714285714286\n",
      "Epoch 12, avg log likelihood: 0.37142857142857144\n",
      "Epoch 13, avg log likelihood: 0.7936297748538352\n",
      "Epoch 14, avg log likelihood: 0.37142857142857144\n",
      "Epoch 15, avg log likelihood: 0.6285714285714286\n",
      "Epoch 16, avg log likelihood: 0.37142857142857144\n",
      "Epoch 17, avg log likelihood: 0.8653829383627878\n",
      "Epoch 18, avg log likelihood: 0.37142857142857144\n",
      "Epoch 19, avg log likelihood: 0.6285714285714286\n",
      "Epoch 20, avg log likelihood: 0.37142857142857144\n",
      "Epoch 21, avg log likelihood: 0.6307692307598645\n",
      "Epoch 22, avg log likelihood: 0.37142857142857144\n",
      "Epoch 23, avg log likelihood: 0.4696450841303908\n",
      "Epoch 24, avg log likelihood: 0.6285714285714286\n",
      "Epoch 25, avg log likelihood: 0.37142857142857144\n",
      "Epoch 26, avg log likelihood: 0.6285714285714286\n",
      "Epoch 27, avg log likelihood: 0.37142857142857144\n",
      "Epoch 28, avg log likelihood: 0.859620368242183\n",
      "Epoch 29, avg log likelihood: 0.37142857142857144\n",
      "Epoch 30, avg log likelihood: 0.6285714285714286\n",
      "Epoch 31, avg log likelihood: 0.37142857142857144\n",
      "Epoch 32, avg log likelihood: 0.6527426929659816\n",
      "Epoch 33, avg log likelihood: 0.37142857142857144\n",
      "Epoch 34, avg log likelihood: 0.8957647588498511\n",
      "Epoch 35, avg log likelihood: 0.38045014166155616\n",
      "Epoch 36, avg log likelihood: 0.6285714285714286\n",
      "Epoch 37, avg log likelihood: 0.37142857142857144\n",
      "Epoch 38, avg log likelihood: 0.6329670329670329\n",
      "Epoch 39, avg log likelihood: 0.37142857142857144\n",
      "Epoch 40, avg log likelihood: 0.8649336219367516\n",
      "Epoch 41, avg log likelihood: 0.37142857142857144\n",
      "Epoch 42, avg log likelihood: 0.6285714285714286\n",
      "Epoch 43, avg log likelihood: 0.37142857142857144\n",
      "Epoch 44, avg log likelihood: 0.6593406594935664\n",
      "Epoch 45, avg log likelihood: 0.37142857142857144\n",
      "Epoch 46, avg log likelihood: 0.8252418868234372\n",
      "Epoch 47, avg log likelihood: 0.37142857142857144\n",
      "Epoch 48, avg log likelihood: 0.6307692307692307\n",
      "Epoch 49, avg log likelihood: 0.37142857142857144\n",
      "Epoch 50, avg log likelihood: 0.7120879174004382\n",
      "Epoch 51, avg log likelihood: 0.37142857142857144\n",
      "Epoch 52, avg log likelihood: 0.703319317229109\n",
      "Epoch 53, avg log likelihood: 0.37142857142857144\n",
      "Epoch 54, avg log likelihood: 0.7120878459920899\n",
      "Epoch 55, avg log likelihood: 0.37142857142857144\n",
      "Epoch 56, avg log likelihood: 0.7031094995123882\n",
      "Epoch 57, avg log likelihood: 0.37142857142857144\n",
      "Epoch 58, avg log likelihood: 0.7120714953087475\n",
      "Epoch 59, avg log likelihood: 0.37142857142857144\n",
      "Epoch 60, avg log likelihood: 0.7015781153225183\n",
      "Epoch 61, avg log likelihood: 0.37142857142857144\n",
      "Epoch 62, avg log likelihood: 0.712087687396232\n",
      "Epoch 63, avg log likelihood: 0.37142857142857144\n",
      "Epoch 64, avg log likelihood: 0.7031862242011828\n",
      "Epoch 65, avg log likelihood: 0.37142857142857144\n",
      "Epoch 66, avg log likelihood: 0.7120002213783375\n",
      "Epoch 67, avg log likelihood: 0.37142857142857144\n",
      "Epoch 68, avg log likelihood: 0.7018463088468173\n",
      "Epoch 69, avg log likelihood: 0.37142857142857144\n",
      "Epoch 70, avg log likelihood: 0.7120840058779513\n",
      "Epoch 71, avg log likelihood: 0.37142857142857144\n",
      "Epoch 72, avg log likelihood: 0.7030734328881929\n",
      "Epoch 73, avg log likelihood: 0.37142857142857144\n",
      "Epoch 74, avg log likelihood: 0.7115248694595517\n",
      "Epoch 75, avg log likelihood: 0.37142857142857144\n",
      "Epoch 76, avg log likelihood: 0.7030729998860038\n",
      "Epoch 77, avg log likelihood: 0.37142857142857144\n",
      "Epoch 78, avg log likelihood: 0.7110510144413505\n",
      "Epoch 79, avg log likelihood: 0.37142857142857144\n",
      "Epoch 80, avg log likelihood: 0.7034562210780771\n",
      "Epoch 81, avg log likelihood: 0.37142857142857144\n",
      "Epoch 82, avg log likelihood: 0.7106276108859134\n",
      "Epoch 83, avg log likelihood: 0.37142857142857144\n",
      "Epoch 84, avg log likelihood: 0.7067886248831302\n",
      "Epoch 85, avg log likelihood: 0.37142857142857144\n",
      "Epoch 86, avg log likelihood: 0.7054798016026452\n",
      "Epoch 87, avg log likelihood: 0.37142857142857144\n",
      "Epoch 88, avg log likelihood: 0.7076907094619744\n",
      "Epoch 89, avg log likelihood: 0.37142857142857144\n",
      "Epoch 90, avg log likelihood: 0.7052430122136709\n",
      "Epoch 91, avg log likelihood: 0.37142857142857144\n",
      "Epoch 92, avg log likelihood: 0.7076914582298615\n",
      "Epoch 93, avg log likelihood: 0.37142857142857144\n",
      "Epoch 94, avg log likelihood: 0.7054541375334142\n",
      "Epoch 95, avg log likelihood: 0.37142857142857144\n",
      "Epoch 96, avg log likelihood: 0.7076786953515443\n",
      "Epoch 97, avg log likelihood: 0.37142857142857144\n",
      "Epoch 98, avg log likelihood: 0.7050693994586226\n",
      "Epoch 99, avg log likelihood: 0.37142857142857166\n",
      "Own model has accuracy of 70.18%\n",
      "Sklean model has accuracy of 95.61%\n"
     ]
    },
    {
     "name": "stderr",
     "output_type": "stream",
     "text": [
      "/Users/ema/anaconda3/lib/python3.7/site-packages/sklearn/linear_model/logistic.py:433: FutureWarning: Default solver will be changed to 'lbfgs' in 0.22. Specify a solver to silence this warning.\n",
      "  FutureWarning)\n"
     ]
    }
   ],
   "source": [
    "logistic_regression = LogisticRegression(n_features_breast_cancer)\n",
    "logistic_regression_sklearn = LogisticRegressionSklearn()\n",
    "\n",
    "eval_model_on_data(logistic_regression, logistic_regression_sklearn, X_train_breast_cancer, y_train_breast_cancer, X_test_breast_cancer, y_test_breast_cancer)"
   ]
  },
  {
   "cell_type": "code",
   "execution_count": null,
   "metadata": {},
   "outputs": [],
   "source": []
  }
 ],
 "metadata": {
  "kernelspec": {
   "display_name": "ml_algo",
   "language": "python",
   "name": "ml_algo"
  },
  "language_info": {
   "codemirror_mode": {
    "name": "ipython",
    "version": 3
   },
   "file_extension": ".py",
   "mimetype": "text/x-python",
   "name": "python",
   "nbconvert_exporter": "python",
   "pygments_lexer": "ipython3",
   "version": "3.7.1"
  }
 },
 "nbformat": 4,
 "nbformat_minor": 2
}
