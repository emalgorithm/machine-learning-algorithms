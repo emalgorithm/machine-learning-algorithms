{
 "cells": [
  {
   "cell_type": "code",
   "execution_count": null,
   "metadata": {},
   "outputs": [],
   "source": [
    "%load_ext autoreload\n",
    "%autoreload 2\n",
    "\n",
    "from sklearn import datasets \n",
    "from sklearn.model_selection import train_test_split\n",
    "import numpy as np\n",
    "from sklearn.metrics import accuracy_score\n",
    "from evaluation_util import eval_model_on_data"
   ]
  },
  {
   "cell_type": "markdown",
   "metadata": {},
   "source": [
    "# Load Data"
   ]
  },
  {
   "cell_type": "markdown",
   "metadata": {},
   "source": [
    "## Breast Cancer Data"
   ]
  },
  {
   "cell_type": "code",
   "execution_count": null,
   "metadata": {},
   "outputs": [],
   "source": [
    "breast_cancer_data = datasets.load_breast_cancer()\n",
    "X_breast_cancer = breast_cancer_data['data']\n",
    "y_breast_cancer = breast_cancer_data['target']\n",
    "X_train_breast_cancer, X_test_breast_cancer, y_train_breast_cancer, y_test_breast_cancer = train_test_split(X_breast_cancer, y_breast_cancer, test_size=0.2, random_state=42)\n",
    "n_classes_breast_cancer = len(breast_cancer_data['target_names'])\n",
    "n_features_breast_cancer = len(X_breast_cancer[0])\n"
   ]
  },
  {
   "cell_type": "markdown",
   "metadata": {},
   "source": [
    "## Digits Data"
   ]
  },
  {
   "cell_type": "code",
   "execution_count": null,
   "metadata": {},
   "outputs": [],
   "source": [
    "X_digits, y_digits = datasets.load_digits(n_class=10, return_X_y=True)\n",
    "X_train_digits, X_test_digits, y_train_digits, y_test_digits = train_test_split(X_digits, y_digits, test_size=0.2, random_state=42)\n",
    "n_classes_digits = 10\n",
    "n_features_digits = len(X_digits[0])\n"
   ]
  },
  {
   "cell_type": "markdown",
   "metadata": {},
   "source": [
    "# Models"
   ]
  },
  {
   "cell_type": "markdown",
   "metadata": {},
   "source": [
    "## Gaussian Discriminant Analysis"
   ]
  },
  {
   "cell_type": "code",
   "execution_count": null,
   "metadata": {},
   "outputs": [],
   "source": [
    "from gaussian_discriminant_analysis import GDA\n",
    "from sklearn.discriminant_analysis import LinearDiscriminantAnalysis"
   ]
  },
  {
   "cell_type": "markdown",
   "metadata": {},
   "source": [
    "### Breast Cancer Data"
   ]
  },
  {
   "cell_type": "code",
   "execution_count": null,
   "metadata": {},
   "outputs": [],
   "source": [
    "gda = GDA(n_classes_breast_cancer, n_features_breast_cancer)\n",
    "gda_sklearn = LinearDiscriminantAnalysis()\n",
    "\n",
    "eval_model_on_data(gda, gda_sklearn, X_train_breast_cancer, y_train_breast_cancer, X_test_breast_cancer, y_test_breast_cancer)"
   ]
  },
  {
   "cell_type": "markdown",
   "metadata": {},
   "source": [
    "### Digits Data"
   ]
  },
  {
   "cell_type": "code",
   "execution_count": null,
   "metadata": {},
   "outputs": [],
   "source": [
    "gda = GDA(n_classes_digits, n_features_digits)\n",
    "gda_sklearn = LinearDiscriminantAnalysis()\n",
    "\n",
    "eval_model_on_data(gda, gda_sklearn, X_train_digits, y_train_digits, X_test_digits, y_test_digits)"
   ]
  },
  {
   "cell_type": "markdown",
   "metadata": {},
   "source": [
    "## Logistic Regression"
   ]
  },
  {
   "cell_type": "code",
   "execution_count": null,
   "metadata": {},
   "outputs": [],
   "source": [
    "from logistic_regression.logistic_regression import LogisticRegression\n",
    "from sklearn.linear_model import LogisticRegression as LogisticRegressionSklearn"
   ]
  },
  {
   "cell_type": "markdown",
   "metadata": {},
   "source": [
    "### Breast Cancer Data"
   ]
  },
  {
   "cell_type": "code",
   "execution_count": null,
   "metadata": {},
   "outputs": [],
   "source": [
    "logistic_regression = LogisticRegression(n_features_breast_cancer)\n",
    "logistic_regression_sklearn = LogisticRegressionSklearn()\n",
    "\n",
    "eval_model_on_data(logistic_regression, logistic_regression_sklearn, X_train_breast_cancer, y_train_breast_cancer, X_test_breast_cancer, y_test_breast_cancer)"
   ]
  }
 ],
 "metadata": {
  "kernelspec": {
   "display_name": "ml_algo",
   "language": "python",
   "name": "ml_algo"
  },
  "language_info": {
   "codemirror_mode": {
    "name": "ipython",
    "version": 3
   },
   "file_extension": ".py",
   "mimetype": "text/x-python",
   "name": "python",
   "nbconvert_exporter": "python",
   "pygments_lexer": "ipython3",
   "version": "3.7.1"
  }
 },
 "nbformat": 4,
 "nbformat_minor": 2
}
