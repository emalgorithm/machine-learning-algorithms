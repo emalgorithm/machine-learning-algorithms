{
 "cells": [
  {
   "cell_type": "code",
   "execution_count": 4,
   "metadata": {},
   "outputs": [],
   "source": [
    "%load_ext autoreload\n",
    "%autoreload 2\n",
    "\n",
    "from sklearn import datasets \n",
    "from sklearn.model_selection import train_test_split\n",
    "import numpy as np\n",
    "from sklearn.metrics import accuracy_score\n",
    "from evaluation_util import eval_model_on_data"
   ]
  },
  {
   "cell_type": "markdown",
   "metadata": {},
   "source": [
    "# Load Data"
   ]
  },
  {
   "cell_type": "markdown",
   "metadata": {},
   "source": [
    "## Breast Cancer Data"
   ]
  },
  {
   "cell_type": "code",
   "execution_count": 5,
   "metadata": {},
   "outputs": [],
   "source": [
    "breast_cancer_data = datasets.load_breast_cancer()\n",
    "X_breast_cancer = breast_cancer_data['data']\n",
    "y_breast_cancer = breast_cancer_data['target']\n",
    "X_train_breast_cancer, X_test_breast_cancer, y_train_breast_cancer, y_test_breast_cancer = train_test_split(X_breast_cancer, y_breast_cancer, test_size=0.2, random_state=42)\n",
    "n_classes_breast_cancer = len(breast_cancer_data['target_names'])\n",
    "n_features_breast_cancer = len(X_breast_cancer[0])\n"
   ]
  },
  {
   "cell_type": "markdown",
   "metadata": {},
   "source": [
    "## Digits Data"
   ]
  },
  {
   "cell_type": "code",
   "execution_count": 6,
   "metadata": {},
   "outputs": [],
   "source": [
    "X_digits, y_digits = datasets.load_digits(n_class=10, return_X_y=True)\n",
    "X_train_digits, X_test_digits, y_train_digits, y_test_digits = train_test_split(X_digits, y_digits, test_size=0.2, random_state=42)\n",
    "n_classes_digits = 10\n",
    "n_features_digits = len(X_digits[0])\n"
   ]
  },
  {
   "cell_type": "markdown",
   "metadata": {},
   "source": [
    "# Models"
   ]
  },
  {
   "cell_type": "markdown",
   "metadata": {},
   "source": [
    "## Gaussian Discriminant Analysis"
   ]
  },
  {
   "cell_type": "code",
   "execution_count": 7,
   "metadata": {},
   "outputs": [],
   "source": [
    "from gaussian_discriminant_analysis import GDA\n",
    "from sklearn.discriminant_analysis import LinearDiscriminantAnalysis"
   ]
  },
  {
   "cell_type": "markdown",
   "metadata": {},
   "source": [
    "### Breast Cancer Data"
   ]
  },
  {
   "cell_type": "code",
   "execution_count": 8,
   "metadata": {},
   "outputs": [
    {
     "name": "stdout",
     "output_type": "stream",
     "text": [
      "Own model has accuracy of 98.25%\n",
      "Sklean model has accuracy of 95.61%\n"
     ]
    }
   ],
   "source": [
    "gda = GDA(n_classes_breast_cancer, n_features_breast_cancer)\n",
    "gda_sklearn = LinearDiscriminantAnalysis()\n",
    "\n",
    "eval_model_on_data(gda, gda_sklearn, X_train_breast_cancer, y_train_breast_cancer, X_test_breast_cancer, y_test_breast_cancer)"
   ]
  },
  {
   "cell_type": "markdown",
   "metadata": {},
   "source": [
    "### Digits Data"
   ]
  },
  {
   "cell_type": "code",
   "execution_count": 9,
   "metadata": {},
   "outputs": [
    {
     "name": "stdout",
     "output_type": "stream",
     "text": [
      "Own model has accuracy of 94.72%\n",
      "Sklean model has accuracy of 94.44%\n"
     ]
    },
    {
     "name": "stderr",
     "output_type": "stream",
     "text": [
      "/Users/ema/anaconda3/lib/python3.7/site-packages/sklearn/discriminant_analysis.py:388: UserWarning: Variables are collinear.\n",
      "  warnings.warn(\"Variables are collinear.\")\n"
     ]
    }
   ],
   "source": [
    "gda = GDA(n_classes_digits, n_features_digits)\n",
    "gda_sklearn = LinearDiscriminantAnalysis()\n",
    "\n",
    "eval_model_on_data(gda, gda_sklearn, X_train_digits, y_train_digits, X_test_digits, y_test_digits)"
   ]
  },
  {
   "cell_type": "markdown",
   "metadata": {},
   "source": [
    "## Logistic Regression"
   ]
  },
  {
   "cell_type": "code",
   "execution_count": 10,
   "metadata": {},
   "outputs": [],
   "source": [
    "from logistic_regression.logistic_regression import LogisticRegression\n",
    "from sklearn.linear_model import LogisticRegression as LogisticRegressionSklearn"
   ]
  },
  {
   "cell_type": "markdown",
   "metadata": {},
   "source": [
    "### Breast Cancer Data"
   ]
  },
  {
   "cell_type": "code",
   "execution_count": 11,
   "metadata": {},
   "outputs": [
    {
     "name": "stdout",
     "output_type": "stream",
     "text": [
      "Epoch 0, likelihood: 0.16760909801950888\n",
      "Epoch 1, likelihood: 0.1830409233816155\n",
      "Epoch 2, likelihood: 0.20040137648197848\n",
      "Epoch 3, likelihood: 0.21990940959589747\n",
      "Epoch 4, likelihood: 0.24194076613421658\n",
      "Epoch 5, likelihood: 0.2668937647194617\n",
      "Epoch 6, likelihood: 0.29521439535553456\n",
      "Epoch 7, likelihood: 0.32625045468389724\n",
      "Epoch 8, likelihood: 0.35830120020032186\n",
      "Epoch 9, likelihood: 0.39069422603048587\n",
      "Epoch 10, likelihood: 0.4231841740349237\n",
      "Epoch 11, likelihood: 0.4551678317993949\n",
      "Epoch 12, likelihood: 0.4856435232531763\n",
      "Epoch 13, likelihood: 0.5138970892564901\n",
      "Epoch 14, likelihood: 0.5397260848883649\n",
      "Epoch 15, likelihood: 0.5631858785834057\n",
      "Epoch 16, likelihood: 0.5844216248287196\n",
      "Epoch 17, likelihood: 0.603636244410254\n",
      "Epoch 18, likelihood: 0.6210614586771952\n",
      "Epoch 19, likelihood: 0.636918529971297\n",
      "Epoch 20, likelihood: 0.6513974127191106\n",
      "Epoch 21, likelihood: 0.6646553510193528\n",
      "Epoch 22, likelihood: 0.6768236074237948\n",
      "Epoch 23, likelihood: 0.6880147328928284\n",
      "Epoch 24, likelihood: 0.6983277041088684\n",
      "Epoch 25, likelihood: 0.7078508257526429\n",
      "Epoch 26, likelihood: 0.716663177874113\n",
      "Epoch 27, likelihood: 0.7248354036694712\n",
      "Epoch 28, likelihood: 0.7324303336943563\n",
      "Epoch 29, likelihood: 0.7395036479756734\n",
      "Epoch 30, likelihood: 0.7461046012017802\n",
      "Epoch 31, likelihood: 0.7522767681419237\n",
      "Epoch 32, likelihood: 0.7580587596735356\n",
      "Epoch 33, likelihood: 0.7634848757654413\n",
      "Epoch 34, likelihood: 0.7685856801068629\n",
      "Epoch 35, likelihood: 0.7733884945192402\n",
      "Epoch 36, likelihood: 0.7779178190269515\n",
      "Epoch 37, likelihood: 0.7821956868877286\n",
      "Epoch 38, likelihood: 0.7862419646418937\n",
      "Epoch 39, likelihood: 0.7900746065943882\n",
      "Epoch 40, likelihood: 0.7937098719014735\n",
      "Epoch 41, likelihood: 0.79716251105032\n",
      "Epoch 42, likelihood: 0.8004459272222362\n",
      "Epoch 43, likelihood: 0.8035723169132947\n",
      "Epoch 44, likelihood: 0.8065527932719323\n",
      "Epoch 45, likelihood: 0.8093974948887356\n",
      "Epoch 46, likelihood: 0.8121156822115841\n",
      "Epoch 47, likelihood: 0.8147158233286264\n",
      "Epoch 48, likelihood: 0.8172056705332261\n",
      "Epoch 49, likelihood: 0.819592328834387\n",
      "Epoch 50, likelihood: 0.8218823173834463\n",
      "Epoch 51, likelihood: 0.8240816246377959\n",
      "Epoch 52, likelihood: 0.8261957579637252\n",
      "Epoch 53, likelihood: 0.8282297882849327\n",
      "Epoch 54, likelihood: 0.8301883903049554\n",
      "Epoch 55, likelihood: 0.8320758787665655\n",
      "Epoch 56, likelihood: 0.8338962411561489\n",
      "Epoch 57, likelihood: 0.8356531672141424\n",
      "Epoch 58, likelihood: 0.8373500755722596\n",
      "Epoch 59, likelihood: 0.8389901378033442\n",
      "Epoch 60, likelihood: 0.8405763001393897\n",
      "Epoch 61, likelihood: 0.8421113030868654\n",
      "Epoch 62, likelihood: 0.8435976991453598\n",
      "Epoch 63, likelihood: 0.8450378688152622\n",
      "Epoch 64, likelihood: 0.8464340350622567\n",
      "Epoch 65, likelihood: 0.8477882763904722\n",
      "Epoch 66, likelihood: 0.8491025386618986\n",
      "Epoch 67, likelihood: 0.8503786457868563\n",
      "Epoch 68, likelihood: 0.851618309398711\n",
      "Epoch 69, likelihood: 0.8528231376154506\n",
      "Epoch 70, likelihood: 0.8539946429810683\n",
      "Epoch 71, likelihood: 0.8551342496708143\n",
      "Epoch 72, likelihood: 0.8562433000361922\n",
      "Epoch 73, likelihood: 0.8573230605580493\n",
      "Epoch 74, likelihood: 0.8583747272691733\n",
      "Epoch 75, likelihood: 0.8593994307014324\n",
      "Epoch 76, likelihood: 0.8603982404066676\n",
      "Epoch 77, likelihood: 0.8613721690952116\n",
      "Epoch 78, likelihood: 0.8623221764310732\n",
      "Epoch 79, likelihood: 0.8632491725184444\n",
      "Epoch 80, likelihood: 0.8641540211102519\n",
      "Epoch 81, likelihood: 0.8650375425659477\n",
      "Epoch 82, likelihood: 0.8659005165825892\n",
      "Epoch 83, likelihood: 0.8667436847204858\n",
      "Epoch 84, likelihood: 0.8675677527422254\n",
      "Epoch 85, likelihood: 0.868373392781749\n",
      "Epoch 86, likelihood: 0.8691612453582517\n",
      "Epoch 87, likelihood: 0.8699319212480568\n",
      "Epoch 88, likelihood: 0.8706860032261687\n",
      "Epoch 89, likelihood: 0.8714240476879935\n",
      "Epoch 90, likelihood: 0.872146586160627\n",
      "Epoch 91, likelihood: 0.8728541267121924\n",
      "Epoch 92, likelihood: 0.8735471552669015\n",
      "Epoch 93, likelihood: 0.8742261368328145\n",
      "Epoch 94, likelihood: 0.8748915166486613\n",
      "Epoch 95, likelihood: 0.8755437212555545\n",
      "Epoch 96, likelihood: 0.8761831594989541\n",
      "Epoch 97, likelihood: 0.8768102234658189\n",
      "Epoch 98, likelihood: 0.8774252893615201\n",
      "Epoch 99, likelihood: 0.8780287183307385\n",
      "Own model has accuracy of 96.49%\n",
      "Sklean model has accuracy of 95.61%\n"
     ]
    },
    {
     "name": "stderr",
     "output_type": "stream",
     "text": [
      "/Users/ema/anaconda3/lib/python3.7/site-packages/sklearn/linear_model/logistic.py:433: FutureWarning: Default solver will be changed to 'lbfgs' in 0.22. Specify a solver to silence this warning.\n",
      "  FutureWarning)\n"
     ]
    }
   ],
   "source": [
    "logistic_regression = LogisticRegression(n_features_breast_cancer)\n",
    "logistic_regression_sklearn = LogisticRegressionSklearn()\n",
    "\n",
    "eval_model_on_data(logistic_regression, logistic_regression_sklearn, X_train_breast_cancer, y_train_breast_cancer, X_test_breast_cancer, y_test_breast_cancer)"
   ]
  },
  {
   "cell_type": "markdown",
   "metadata": {},
   "source": [
    "## K-Nearest Neighbours"
   ]
  },
  {
   "cell_type": "code",
   "execution_count": 20,
   "metadata": {},
   "outputs": [],
   "source": [
    "from k_nearest_neighbours.k_nearest_neighbours import KNN\n",
    "from sklearn.neighbors import KNeighborsClassifier"
   ]
  },
  {
   "cell_type": "markdown",
   "metadata": {},
   "source": [
    "### Breast Cancer Data"
   ]
  },
  {
   "cell_type": "code",
   "execution_count": 23,
   "metadata": {},
   "outputs": [
    {
     "name": "stdout",
     "output_type": "stream",
     "text": [
      "Own model has accuracy of 96.49%\n",
      "Sklean model has accuracy of 97.37%\n"
     ]
    }
   ],
   "source": [
    "knn = KNN(10, n_classes_breast_cancer)\n",
    "knn_sklearn = KNeighborsClassifier(10)\n",
    "\n",
    "eval_model_on_data(knn, knn_sklearn, X_train_breast_cancer, y_train_breast_cancer, X_test_breast_cancer, y_test_breast_cancer)"
   ]
  },
  {
   "cell_type": "markdown",
   "metadata": {},
   "source": [
    "### Digits Data"
   ]
  },
  {
   "cell_type": "code",
   "execution_count": 24,
   "metadata": {},
   "outputs": [
    {
     "name": "stdout",
     "output_type": "stream",
     "text": [
      "Own model has accuracy of 96.11%\n",
      "Sklean model has accuracy of 98.33%\n"
     ]
    }
   ],
   "source": [
    "knn = KNN(10, n_classes_digits)\n",
    "knn_sklearn = KNeighborsClassifier(10)\n",
    "\n",
    "eval_model_on_data(knn, knn_sklearn, X_train_digits, y_train_digits, X_test_digits, y_test_digits)"
   ]
  },
  {
   "cell_type": "code",
   "execution_count": null,
   "metadata": {},
   "outputs": [],
   "source": []
  }
 ],
 "metadata": {
  "kernelspec": {
   "display_name": "ml_algo",
   "language": "python",
   "name": "ml_algo"
  },
  "language_info": {
   "codemirror_mode": {
    "name": "ipython",
    "version": 3
   },
   "file_extension": ".py",
   "mimetype": "text/x-python",
   "name": "python",
   "nbconvert_exporter": "python",
   "pygments_lexer": "ipython3",
   "version": "3.7.1"
  }
 },
 "nbformat": 4,
 "nbformat_minor": 2
}
