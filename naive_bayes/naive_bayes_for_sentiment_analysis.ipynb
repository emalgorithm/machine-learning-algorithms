{
 "cells": [
  {
   "cell_type": "markdown",
   "metadata": {},
   "source": [
    "# Sentiment Analysis using Naive Bayes"
   ]
  },
  {
   "cell_type": "code",
   "execution_count": 29,
   "metadata": {},
   "outputs": [],
   "source": [
    "from nltk.tokenize import TweetTokenizer\n",
    "from sklearn.model_selection import train_test_split\n",
    "from nltk.corpus import stopwords\n",
    "import numpy as np\n",
    "\n",
    "tknzr = TweetTokenizer()\n",
    "sws = stopwords.words('english')"
   ]
  },
  {
   "cell_type": "markdown",
   "metadata": {},
   "source": [
    "## Preprocess and Split Data"
   ]
  },
  {
   "cell_type": "code",
   "execution_count": 30,
   "metadata": {},
   "outputs": [],
   "source": [
    "X = []\n",
    "y = []\n",
    "word_to_index = {}\n",
    "words_vocabulary = []\n",
    "\n",
    "\n",
    "def preprocess_data():\n",
    "    idx = 0\n",
    "    with open('data/amazon_cells_labelled.txt', 'r') as f:\n",
    "        for l in f:\n",
    "            sentence, sentiment = l.split('\\t')\n",
    "            sentiment = int(sentiment)\n",
    "            y.append(sentiment)\n",
    "\n",
    "            words = tknzr.tokenize(sentence)\n",
    "            # Remove stopwords does not improve accuracy but makes the model faster as we have less words to process\n",
    "            words = [word for word in words if word not in sws]\n",
    "            X.append(words)\n",
    "            \n",
    "            for word in words:\n",
    "                if word not in word_to_index:\n",
    "                    word_to_index[word] = idx\n",
    "                    words_vocabulary.append(word)\n",
    "                    idx += 1\n",
    "    \n",
    "    return X, y\n",
    "\n",
    "def text_to_features(X):\n",
    "    X_feat = []\n",
    "    for x in X:\n",
    "        x_feat = [1 if word in x else 0 for word in words_vocabulary]\n",
    "        X_feat.append(x_feat)\n",
    "    \n",
    "    return X_feat\n",
    "        \n",
    "X, y = preprocess_data()\n",
    "X = text_to_features(X)\n",
    "            \n",
    "X_train, X_test, y_train, y_test = train_test_split(X, y, test_size=0.2, random_state=42)"
   ]
  },
  {
   "cell_type": "code",
   "execution_count": 31,
   "metadata": {},
   "outputs": [
    {
     "name": "stdout",
     "output_type": "stream",
     "text": [
      "We have 800 train sentences and 200 test sentences\n"
     ]
    }
   ],
   "source": [
    "print(\"We have {} train sentences and {} test sentences\".format(len(X_train), len(X_test)))"
   ]
  },
  {
   "cell_type": "code",
   "execution_count": 32,
   "metadata": {},
   "outputs": [
    {
     "name": "stdout",
     "output_type": "stream",
     "text": [
      "49.12% of the train sentences are positive\n"
     ]
    }
   ],
   "source": [
    "print(\"{0:.2f}% of the train sentences are positive\".format(sum(y_train) * 100 / len(y_train)))"
   ]
  },
  {
   "cell_type": "code",
   "execution_count": 33,
   "metadata": {},
   "outputs": [
    {
     "name": "stdout",
     "output_type": "stream",
     "text": [
      "53.50% of the test sentences are positive\n"
     ]
    }
   ],
   "source": [
    "print(\"{0:.2f}% of the test sentences are positive\".format(sum(y_test) * 100 / len(y_test)))"
   ]
  },
  {
   "cell_type": "code",
   "execution_count": 34,
   "metadata": {},
   "outputs": [
    {
     "name": "stdout",
     "output_type": "stream",
     "text": [
      "The vocabulary size is 2128\n"
     ]
    }
   ],
   "source": [
    "print(\"The vocabulary size is {}\".format(len(word_to_index)))"
   ]
  },
  {
   "cell_type": "markdown",
   "metadata": {},
   "source": [
    "## Implement Naive Bayes Model\n",
    "Compute the probabilities needed to make inference"
   ]
  },
  {
   "cell_type": "code",
   "execution_count": 62,
   "metadata": {},
   "outputs": [],
   "source": [
    "class NaiveBayes():\n",
    "    def __init__(self, categories, num_feat):\n",
    "        self.num_feat = num_feat\n",
    "        self.categories = categories\n",
    "        self.categories_to_frequencies = {k: 0 for k in categories}\n",
    "        # Frequencies of each word for each category is initially set to 1 so we avoid zero probability when computing likelihood\n",
    "        self.categories_to_feature_to_frequencies = {k: {k2: 1 for k2 in range(num_feat)} for k in categories}\n",
    "    \n",
    "    def fit(self, X_train, y_train):\n",
    "        for i, features in enumerate(X_train):\n",
    "            category = y_train[i]\n",
    "\n",
    "            self.categories_to_frequencies[category] += 1\n",
    "            \n",
    "            for j, feature in enumerate(features):\n",
    "                if feature == 1:\n",
    "                    self.categories_to_feature_to_frequencies[category][j] += 1\n",
    "                    \n",
    "        self.categories_to_total_frequency = {category: sum(self.categories_to_feature_to_frequencies[category].values()) for category in self.categories}\n",
    "                \n",
    "    def predict(self, features):\n",
    "        return np.argmax([self.compute_category_score(category, features) for category in self.categories])\n",
    "    \n",
    "    def compute_category_score(self, category, features):\n",
    "        prior = self.categories_to_frequencies[category] / sum(self.categories_to_frequencies.values())\n",
    "        \n",
    "        likelihood = 1\n",
    "        for feature_idx, feature in enumerate(features):\n",
    "            prob_feature_pos = self.categories_to_feature_to_frequencies[category][feature_idx] / self.categories_to_total_frequency[category]\n",
    "            prob_feature_neg = 1 - prob_feature_pos\n",
    "            likelihood *= feature * prob_feature_pos + (1 - feature) * prob_feature_neg\n",
    "            \n",
    "        return prior * likelihood"
   ]
  },
  {
   "cell_type": "markdown",
   "metadata": {},
   "source": [
    "## Test"
   ]
  },
  {
   "cell_type": "code",
   "execution_count": 63,
   "metadata": {},
   "outputs": [
    {
     "name": "stdout",
     "output_type": "stream",
     "text": [
      "78.00% of sentences are correctly classified\n"
     ]
    }
   ],
   "source": [
    "n_correct = 0\n",
    "model = NaiveBayes([0, 1], len(words_vocabulary))\n",
    "\n",
    "model.fit(X_train, y_train)\n",
    "\n",
    "for i, features in enumerate(X_test):\n",
    "    y_pred = model.predict(features)\n",
    "    if y_pred == y_test[i]:\n",
    "        n_correct += 1\n",
    "\n",
    "print(\"{0:.2f}% of sentences are correctly classified\".format(n_correct * 100 / len(X_test)))"
   ]
  },
  {
   "cell_type": "markdown",
   "metadata": {},
   "source": [
    "## Compare to Sklearn"
   ]
  },
  {
   "cell_type": "code",
   "execution_count": 64,
   "metadata": {},
   "outputs": [],
   "source": [
    "from sklearn.naive_bayes import BernoulliNB"
   ]
  },
  {
   "cell_type": "code",
   "execution_count": 59,
   "metadata": {},
   "outputs": [
    {
     "name": "stdout",
     "output_type": "stream",
     "text": [
      "78.50% of sentences are correctly classified\n"
     ]
    }
   ],
   "source": [
    "n_correct = 0\n",
    "\n",
    "clf = BernoulliNB(alpha=1.0)\n",
    "clf.fit(X_train, y_train)\n",
    "\n",
    "for i, features in enumerate(X_test):\n",
    "    y_pred = clf.predict([features])[0]\n",
    "    if y_pred == y_test[i]:\n",
    "        n_correct += 1\n",
    "\n",
    "print(\"{0:.2f}% of sentences are correctly classified\".format(n_correct * 100 / len(X_test)))"
   ]
  },
  {
   "cell_type": "code",
   "execution_count": null,
   "metadata": {},
   "outputs": [],
   "source": []
  }
 ],
 "metadata": {
  "kernelspec": {
   "display_name": "Python 3",
   "language": "python",
   "name": "python3"
  },
  "language_info": {
   "codemirror_mode": {
    "name": "ipython",
    "version": 3
   },
   "file_extension": ".py",
   "mimetype": "text/x-python",
   "name": "python",
   "nbconvert_exporter": "python",
   "pygments_lexer": "ipython3",
   "version": "3.6.4"
  }
 },
 "nbformat": 4,
 "nbformat_minor": 2
}
