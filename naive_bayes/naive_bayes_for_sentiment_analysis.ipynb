{
 "cells": [
  {
   "cell_type": "markdown",
   "metadata": {},
   "source": [
    "# Sentiment Analysis using Naive Bayes"
   ]
  },
  {
   "cell_type": "code",
   "execution_count": 10,
   "metadata": {},
   "outputs": [],
   "source": [
    "from nltk.tokenize import TweetTokenizer\n",
    "from sklearn.model_selection import train_test_split\n",
    "from nltk.corpus import stopwords\n",
    "import numpy as np\n",
    "\n",
    "tknzr = TweetTokenizer()\n",
    "sws = stopwords.words('english')"
   ]
  },
  {
   "cell_type": "markdown",
   "metadata": {},
   "source": [
    "## Preprocess and Split Data"
   ]
  },
  {
   "cell_type": "code",
   "execution_count": 2,
   "metadata": {},
   "outputs": [],
   "source": [
    "X = []\n",
    "y = []\n",
    "\n",
    "def preprocess_data():\n",
    "    with open('data/amazon_cells_labelled.txt', 'r') as f:\n",
    "        for l in f:\n",
    "            sentence, sentiment = l.split('\\t')\n",
    "            sentiment = int(sentiment)\n",
    "            y.append(sentiment)\n",
    "\n",
    "            words = tknzr.tokenize(sentence)\n",
    "            # Remove stopwords does not improve accuracy but makes the model faster as we have less words to process\n",
    "            words = [word for word in words if word not in sws]\n",
    "            X.append(words)\n",
    "            \n",
    "preprocess_data()\n",
    "            \n",
    "X_train, X_test, y_train, y_test = train_test_split(X, y, test_size=0.2, random_state=42)"
   ]
  },
  {
   "cell_type": "code",
   "execution_count": 3,
   "metadata": {},
   "outputs": [
    {
     "name": "stdout",
     "output_type": "stream",
     "text": [
      "We have 800 train sentences and 200 test sentences\n"
     ]
    }
   ],
   "source": [
    "print(\"We have {} train sentences and {} test sentences\".format(len(X_train), len(X_test)))"
   ]
  },
  {
   "cell_type": "code",
   "execution_count": 4,
   "metadata": {},
   "outputs": [
    {
     "name": "stdout",
     "output_type": "stream",
     "text": [
      "49.12% of the train sentences are positive\n"
     ]
    }
   ],
   "source": [
    "print(\"{0:.2f}% of the train sentences are positive\".format(sum(y_train) * 100 / len(y_train)))"
   ]
  },
  {
   "cell_type": "code",
   "execution_count": 5,
   "metadata": {},
   "outputs": [
    {
     "name": "stdout",
     "output_type": "stream",
     "text": [
      "53.50% of the test sentences are positive\n"
     ]
    }
   ],
   "source": [
    "print(\"{0:.2f}% of the test sentences are positive\".format(sum(y_test) * 100 / len(y_test)))"
   ]
  },
  {
   "cell_type": "markdown",
   "metadata": {},
   "source": [
    "## Implement Naive Bayes Model\n",
    "Compute the probabilities needed to make inference"
   ]
  },
  {
   "cell_type": "code",
   "execution_count": 24,
   "metadata": {},
   "outputs": [],
   "source": [
    "class NaiveBayes():\n",
    "    def __init__(self, categories):\n",
    "        self.categories = categories\n",
    "        self.categories_to_frequencies = {k: 0 for k in categories}\n",
    "        self.categories_to_words_to_frequencies = {k: {} for k in categories}\n",
    "    \n",
    "    def train(self, X_train, y_train):\n",
    "        for i, words in enumerate(X_train):\n",
    "            sentiment = y_train[i]\n",
    "\n",
    "            self.categories_to_frequencies[sentiment] += 1\n",
    "\n",
    "            for word in words:\n",
    "                if word not in self.categories_to_words_to_frequencies[sentiment]:\n",
    "                    self.categories_to_words_to_frequencies[sentiment][word] = 0\n",
    "\n",
    "                self.categories_to_words_to_frequencies[sentiment][word] += 1   \n",
    "                \n",
    "    def predict(self, words):\n",
    "        return np.argmax([self.compute_category_score(category) for category in self.categories])\n",
    "    \n",
    "    def compute_category_score(self, category):\n",
    "        prior = self.categories_to_frequencies[category] / sum(self.categories_to_frequencies.values())\n",
    "        \n",
    "        likelihood = 1\n",
    "        for word in words:\n",
    "            if word in self.categories_to_words_to_frequencies[category]:\n",
    "                p_word_given_category = self.categories_to_words_to_frequencies[category][word] / sum(self.categories_to_words_to_frequencies[category].values())\n",
    "            else:\n",
    "                p_word_given_category = 0.0001\n",
    "            likelihood *= p_word_given_category\n",
    "            \n",
    "        return prior * likelihood"
   ]
  },
  {
   "cell_type": "markdown",
   "metadata": {},
   "source": [
    "## Test"
   ]
  },
  {
   "cell_type": "code",
   "execution_count": 25,
   "metadata": {},
   "outputs": [
    {
     "name": "stdout",
     "output_type": "stream",
     "text": [
      "78.00% of sentences are correctly classified\n"
     ]
    }
   ],
   "source": [
    "n_correct = 0\n",
    "model = NaiveBayes([0, 1])\n",
    "\n",
    "model.train(X_train, y_train)\n",
    "\n",
    "for i, words in enumerate(X_test):\n",
    "    y_pred = model.predict(words)\n",
    "    if y_pred == y_test[i]:\n",
    "        n_correct += 1\n",
    "\n",
    "print(\"{0:.2f}% of sentences are correctly classified\".format(n_correct * 100 / len(X_test)))"
   ]
  },
  {
   "cell_type": "code",
   "execution_count": null,
   "metadata": {},
   "outputs": [],
   "source": []
  },
  {
   "cell_type": "code",
   "execution_count": null,
   "metadata": {},
   "outputs": [],
   "source": []
  }
 ],
 "metadata": {
  "kernelspec": {
   "display_name": "Python 3",
   "language": "python",
   "name": "python3"
  },
  "language_info": {
   "codemirror_mode": {
    "name": "ipython",
    "version": 3
   },
   "file_extension": ".py",
   "mimetype": "text/x-python",
   "name": "python",
   "nbconvert_exporter": "python",
   "pygments_lexer": "ipython3",
   "version": "3.6.4"
  }
 },
 "nbformat": 4,
 "nbformat_minor": 2
}
