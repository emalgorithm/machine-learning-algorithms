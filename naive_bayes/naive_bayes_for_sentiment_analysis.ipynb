{
 "cells": [
  {
   "cell_type": "markdown",
   "metadata": {},
   "source": [
    "# Sentiment Analysis using Naive Bayes"
   ]
  },
  {
   "cell_type": "code",
   "execution_count": 46,
   "metadata": {},
   "outputs": [],
   "source": [
    "from nltk.tokenize import TweetTokenizer\n",
    "from sklearn.model_selection import train_test_split\n",
    "from nltk.corpus import stopwords\n",
    "\n",
    "tknzr = TweetTokenizer()\n",
    "sws = stopwords.words('english')"
   ]
  },
  {
   "cell_type": "markdown",
   "metadata": {},
   "source": [
    "## Preprocess and Split Data"
   ]
  },
  {
   "cell_type": "code",
   "execution_count": 71,
   "metadata": {},
   "outputs": [],
   "source": [
    "X = []\n",
    "y = []\n",
    "\n",
    "def preprocess_data():\n",
    "    with open('data/amazon_cells_labelled.txt', 'r') as f:\n",
    "        for l in f:\n",
    "            sentence, sentiment = l.split('\\t')\n",
    "            sentiment = int(sentiment)\n",
    "            y.append(sentiment)\n",
    "\n",
    "            words = tknzr.tokenize(sentence)\n",
    "            # Remove stopwords does not improve accuracy but makes the model faster as we have less words to process\n",
    "            words = [word for word in words if word not in sws]\n",
    "            X.append(words)\n",
    "            \n",
    "preprocess_data()\n",
    "            \n",
    "X_train, X_test, y_train, y_test = train_test_split(X, y, test_size=0.2, random_state=42)"
   ]
  },
  {
   "cell_type": "code",
   "execution_count": 72,
   "metadata": {},
   "outputs": [
    {
     "name": "stdout",
     "output_type": "stream",
     "text": [
      "We have 800 train sentences and 200 test sentences\n"
     ]
    }
   ],
   "source": [
    "print(\"We have {} train sentences and {} test sentences\".format(len(X_train), len(X_test)))"
   ]
  },
  {
   "cell_type": "code",
   "execution_count": 73,
   "metadata": {},
   "outputs": [
    {
     "name": "stdout",
     "output_type": "stream",
     "text": [
      "49.12% of the train sentences are positive\n"
     ]
    }
   ],
   "source": [
    "print(\"{0:.2f}% of the train sentences are positive\".format(sum(y_train) * 100 / len(y_train)))"
   ]
  },
  {
   "cell_type": "code",
   "execution_count": 74,
   "metadata": {},
   "outputs": [
    {
     "name": "stdout",
     "output_type": "stream",
     "text": [
      "53.50% of the test sentences are positive\n"
     ]
    }
   ],
   "source": [
    "print(\"{0:.2f}% of the test sentences are positive\".format(sum(y_test) * 100 / len(y_test)))"
   ]
  },
  {
   "cell_type": "markdown",
   "metadata": {},
   "source": [
    "## Implement Naive Bayes Model\n",
    "Compute the probabilities needed to make inference"
   ]
  },
  {
   "cell_type": "code",
   "execution_count": 75,
   "metadata": {},
   "outputs": [],
   "source": [
    "categories_to_frequencies = {0: 0, 1: 0}\n",
    "categories_to_words_to_frequencies = {0: {}, 1: {}}\n",
    "\n",
    "for i, words in enumerate(X_train):\n",
    "    sentiment = y_train[i]\n",
    "\n",
    "    categories_to_frequencies[sentiment] += 1\n",
    "\n",
    "    for word in words:\n",
    "        if word not in categories_to_words_to_frequencies[sentiment]:\n",
    "            categories_to_words_to_frequencies[sentiment][word] = 0\n",
    "\n",
    "        categories_to_words_to_frequencies[sentiment][word] += 1        "
   ]
  },
  {
   "cell_type": "markdown",
   "metadata": {},
   "source": [
    "Implement the function which uses the above computed frequencies to make predictions"
   ]
  },
  {
   "cell_type": "code",
   "execution_count": 76,
   "metadata": {},
   "outputs": [],
   "source": [
    "def predict(words):\n",
    "    positive = 1\n",
    "    negative = 0\n",
    "    \n",
    "    p_negative_given_data = 1\n",
    "    p_positive_given_data = 1\n",
    "    \n",
    "    p_negative = categories_to_frequencies[negative] / sum(categories_to_frequencies.values())\n",
    "    p_negative_given_data *= p_negative\n",
    "    \n",
    "    p_positive = categories_to_frequencies[positive] / sum(categories_to_frequencies.values())\n",
    "    p_positive_given_data *= p_positive\n",
    "    \n",
    "    for word in words:\n",
    "        if word in categories_to_words_to_frequencies[negative]:\n",
    "            p_word_given_negative = categories_to_words_to_frequencies[negative][word] / sum(categories_to_words_to_frequencies[negative].values())\n",
    "        else:\n",
    "            p_word_given_negative = 0.0001\n",
    "        p_negative_given_data *= p_word_given_negative\n",
    "        \n",
    "        if word in categories_to_words_to_frequencies[positive]:\n",
    "            p_word_given_positive = categories_to_words_to_frequencies[positive][word] / sum(categories_to_words_to_frequencies[negative].values())\n",
    "        else:\n",
    "            p_word_given_positive = 0.0001\n",
    "        p_positive_given_data *= p_word_given_positive\n",
    "    \n",
    "    return 0 if p_negative_given_data > p_positive_given_data else 1"
   ]
  },
  {
   "cell_type": "markdown",
   "metadata": {},
   "source": [
    "## Test"
   ]
  },
  {
   "cell_type": "code",
   "execution_count": 77,
   "metadata": {},
   "outputs": [
    {
     "name": "stdout",
     "output_type": "stream",
     "text": [
      "80.00% of sentences are correctly classified\n"
     ]
    }
   ],
   "source": [
    "n_correct = 0\n",
    "\n",
    "for i, words in enumerate(X_test):\n",
    "    y_pred = predict(words)\n",
    "    if y_pred == y_test[i]:\n",
    "        n_correct += 1\n",
    "\n",
    "print(\"{0:.2f}% of sentences are correctly classified\".format(n_correct * 100 / len(X_test)))"
   ]
  }
 ],
 "metadata": {
  "kernelspec": {
   "display_name": "Python 3",
   "language": "python",
   "name": "python3"
  },
  "language_info": {
   "codemirror_mode": {
    "name": "ipython",
    "version": 3
   },
   "file_extension": ".py",
   "mimetype": "text/x-python",
   "name": "python",
   "nbconvert_exporter": "python",
   "pygments_lexer": "ipython3",
   "version": "3.6.4"
  }
 },
 "nbformat": 4,
 "nbformat_minor": 2
}
